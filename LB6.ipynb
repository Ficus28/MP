{
 "cells": [
  {
   "cell_type": "markdown",
   "id": "f9385137-fba8-4e46-8f3a-7b738b1c626b",
   "metadata": {},
   "source": [
    "**1.Оцените евклидово расстояние между векторами x1 {2, 5, 3 ,7} и x2 {2, 7, 1, 5}.**"
   ]
  },
  {
   "cell_type": "code",
   "execution_count": 2,
   "id": "369b9940-a8af-4f77-8236-cb16aa5d1c3d",
   "metadata": {},
   "outputs": [
    {
     "name": "stdout",
     "output_type": "stream",
     "text": [
      "Евклидово расстояние между векторами x1 и x2: 3.4641016151377544\n"
     ]
    }
   ],
   "source": [
    "import numpy as np\n",
    "\n",
    "# Векторы\n",
    "x1 = np.array([2, 5, 3, 7])\n",
    "x2 = np.array([2, 7, 1, 5])\n",
    "\n",
    "# Вычисление евклидова расстояния\n",
    "distance = np.linalg.norm(x1 - x2) #вычисляет евклидово расстояние между двумя векторами, используя норму разности между векторами.\n",
    "\n",
    "# Вывод результата\n",
    "print(\"Евклидово расстояние между векторами x1 и x2:\", distance)"
   ]
  },
  {
   "cell_type": "markdown",
   "id": "3e432fc9-9da3-4ec4-a960-a3d34578c8d8",
   "metadata": {},
   "source": [
    "**2.Оцените расстояние Чебышева между векторами x1 {0, 10, 4, 9} и x2 {3, 7, 0, 2}.**"
   ]
  },
  {
   "cell_type": "code",
   "execution_count": 3,
   "id": "68b3a9c3-5424-40a3-8e7c-0ca636ff11f6",
   "metadata": {},
   "outputs": [
    {
     "name": "stdout",
     "output_type": "stream",
     "text": [
      "Расстояние Чебышева между векторами x1 и x2: 7\n"
     ]
    }
   ],
   "source": [
    "import numpy as np\n",
    "\n",
    "# Векторы\n",
    "x1 = np.array([0, 10, 4, 9])\n",
    "x2 = np.array([3, 7, 0, 2])\n",
    "\n",
    "# Вычисление расстояния Чебышева\n",
    "chebyshev_distance = np.max(np.abs(x1 - x2)) # abs(x1 - x2) вычисляет абсолютную разность между компонентами двух векторов.\n",
    "#np.max() находит максимальное значение среди этих различий, что и является расстоянием Чебышева.\n",
    "# Вывод результата\n",
    "print(\"Расстояние Чебышева между векторами x1 и x2:\", chebyshev_distance)"
   ]
  },
  {
   "cell_type": "markdown",
   "id": "528416bc-6f37-44b6-bc07-cc169b7f8386",
   "metadata": {},
   "source": [
    "**3.Есть три центроида c1 {1, 0, 0}, c2 {0, 1, 1}, c3{1, 0, 1} и точка x с координатами {2, 0, 2}. К какому кластеру следует отнести эту \n",
    "точку при использовании евклидовой метрики расстояния?**"
   ]
  },
  {
   "cell_type": "code",
   "execution_count": 6,
   "id": "77d1199b-c83d-47fd-aef0-68ce1038fd20",
   "metadata": {},
   "outputs": [
    {
     "name": "stdout",
     "output_type": "stream",
     "text": [
      "Точка x ближе всего к центроиду c 3\n"
     ]
    }
   ],
   "source": [
    "import numpy as np\n",
    "\n",
    "# Определение центроидов и точки\n",
    "c1 = np.array([1, 0, 0])\n",
    "c2 = np.array([0, 1, 1])\n",
    "c3 = np.array([1, 0, 1])\n",
    "x = np.array([2, 0, 2])\n",
    "\n",
    "# Функция для вычисления евклидова расстояния\n",
    "def euclidean_distance(a, b):\n",
    "    return np.linalg.norm(a - b)\n",
    "\n",
    "# Вычисление расстояний до всех центроидов\n",
    "distances = [euclidean_distance(x, c) for c in [c1, c2, c3]]\n",
    "\n",
    "# Определение ближайшего центроида\n",
    "closest_centroid_index = np.argmin(distances)\n",
    "print(\"Точка x ближе всего к центроиду c\", closest_centroid_index + 1)"
   ]
  },
  {
   "cell_type": "markdown",
   "id": "2e5e2d13-6581-4a07-ab52-62da7cda9321",
   "metadata": {},
   "source": [
    "**4.Как называется метод определения оптимального числа k (кластеров) с использованием анализа инерции**"
   ]
  },
  {
   "cell_type": "markdown",
   "id": "57e28f2d-de57-40cd-a754-0fb2838a32e1",
   "metadata": {},
   "source": [
    "Метод определения оптимального числа кластеров с использованием анализа инерции называется \"метод локтя\" (или \"elbow method\")."
   ]
  }
 ],
 "metadata": {
  "kernelspec": {
   "display_name": "Python 3 (ipykernel)",
   "language": "python",
   "name": "python3"
  },
  "language_info": {
   "codemirror_mode": {
    "name": "ipython",
    "version": 3
   },
   "file_extension": ".py",
   "mimetype": "text/x-python",
   "name": "python",
   "nbconvert_exporter": "python",
   "pygments_lexer": "ipython3",
   "version": "3.12.6"
  }
 },
 "nbformat": 4,
 "nbformat_minor": 5
}
