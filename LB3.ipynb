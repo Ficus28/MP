{
 "cells": [
  {
   "cell_type": "markdown",
   "id": "c63bc48c-092d-4a7c-8d3d-61fa9e225b91",
   "metadata": {},
   "source": [
    "**1.Перечислите возможные гиперпараметры модели линейной регрессии**\n",
    "\n",
    "Нормализация, Простая линейная регрессия."
   ]
  },
  {
   "cell_type": "markdown",
   "id": "dc1edfc0-33f0-45ad-af70-8cf18efa5ed2",
   "metadata": {},
   "source": [
    "**2.Может ли коэффициент детерминации быть отрицательным \n",
    "числом?**"
   ]
  },
  {
   "cell_type": "markdown",
   "id": "94c16461-805c-4bdf-a540-7d8e087c6996",
   "metadata": {},
   "source": [
    "Да, коэффициент детерминации (R^2) может быть отрицательным, хотя это нечасто встречается. Обычно значение (R^2) варьируется от 0 до 1, где\n",
    "\n",
    "R^2 = 1 означает, что модель идеально предсказывает данные\n",
    "\n",
    "R^2 = 0 означает, что модель предсказывает так же, как среднее значение целевой переменной (то есть модель не улучшает предсказания по сравнению с простой средней).\n",
    "\n",
    "R^2 может стать отрицательным, когда модель хуже, чем просто предсказание среднего значения целевой переменной. \n",
    "\n",
    "Это происходит в тех случаях, когда модель делает очень неточные предсказания, и сумма квадратов ошибок модели превышает сумму квадратов отклонений от среднего. Формула для R^2 выглядит так: **R**\n"
   ]
  },
  {
   "cell_type": "markdown",
   "id": "777ab09e-fd58-4544-8240-19bc3288de8f",
   "metadata": {},
   "source": [
    "**3.Оцените MSE для следующих данных: реальные значения y {1, 2, 3, 4}, предсказания модели y^ {2, 1, 4, 6}.**\n",
    "\n",
    "Среднеквадратичная ошибка (MSE) для данных {1, 2, 3, 4} и предсказаний {2, 1, 4, 6} равна 1.75\n",
    "\n",
    "Сначала мы находим разницу между реальными (y) и предсказанными (y^): (-1),(1),(-1),(-2).\n",
    "\n",
    "Затем берём квадраты от разницы: 1, 1, 1, 4.\n",
    "\n",
    "Суммируем квадрат разниц = 7 и делим на кол-во разниц **n** = 4\n",
    "\n",
    "Делим сумму и кол-во разниц: 7/4 = 1.75\n"
   ]
  },
  {
   "cell_type": "markdown",
   "id": "349dfc36-00cd-48d4-b48b-2e03fe2ff751",
   "metadata": {},
   "source": [
    "**4.Предположим, что у вас есть вектор весов w {10, 5, 6}. Вы посчитали градиент функции потерь, который равен {20, −10, 40}. \n",
    "Посчитайте обновленный вектор весов при условии, что скорость обучения составляет 0.1.**"
   ]
  },
  {
   "attachments": {
    "6a61134f-ae6c-4204-9d63-5d96631de65b.png": {
     "image/png": "[encoded data removed]"
    },
    "791b444d-37fa-48bb-b4d9-0ead0daca568.png": {
     "image/png": "[encoded data removed]"
    },
    "9eb8c600-d78f-413f-a41b-65ce4cd65653.png": {
     "image/png": "[encoded data removed]"
    },
    "dc90732e-ab82-463c-a16f-502320d9d79f.png": {
     "image/png": "[encoded data removed]"
    }
   },
   "cell_type": "markdown",
   "id": "fb4b848c-a39e-4911-b916-1f21f1583217",
   "metadata": {},
   "source": [
    "Для обновления вектора весов используем формулу ![image.png](attachment:791b444d-37fa-48bb-b4d9-0ead0daca568.png)\n",
    "\n",
    "![image.png](attachment:dc90732e-ab82-463c-a16f-502320d9d79f.png) - исходный вектор весов\n",
    "\n",
    "![image.png](attachment:6a61134f-ae6c-4204-9d63-5d96631de65b.png) - скорость обучения\n",
    "\n",
    "![image.png](attachment:9eb8c600-d78f-413f-a41b-65ce4cd65653.png) - градиент функции потерь"
   ]
  },
  {
   "cell_type": "markdown",
   "id": "5346014d-a311-4206-9b30-699ebed497a4",
   "metadata": {},
   "source": [
    "Отсюдова получаем \n",
    "\n",
    "10 - 0.1 х 20 = 8\n",
    "\n",
    "5 - 0.1 х (-10) = 6\n",
    "\n",
    "6 - 0.1 х 40 = 2\n",
    "\n",
    "Получаем обновлённый вектор весов **{8,6,2}**"
   ]
  },
  {
   "cell_type": "markdown",
   "id": "f4163959-3aa6-4ae7-939a-04c7ba1c2ffd",
   "metadata": {},
   "source": [
    "**5.Перечислите данные, которые вам необходимы для расчета \n",
    "градиента функции потерь**"
   ]
  },
  {
   "cell_type": "markdown",
   "id": "10296304-3cce-45d3-aefe-c93a41b3aee8",
   "metadata": {},
   "source": [
    "Вектор предсказанных значений,\n",
    "Вектор правильных значений, \n",
    "Массив признаков,\n",
    "Флаг bias."
   ]
  },
  {
   "cell_type": "markdown",
   "id": "a5570518-9562-4f71-8571-ec8228c6771c",
   "metadata": {},
   "source": [
    "**6.Вы выполнили обучение линейной модели дважды: с регуляризацией и без. У вас есть два вектора весов модели w1 {14.37, 22.80, \n",
    "32.20} и w2 {0.69, 2.02, 4.20}, но вы не помните, какой вектор весов \n",
    "какой модели соответствует. Как вы считаете, который из приведенных весов соответствует случаю регуляризации?**"
   ]
  },
  {
   "cell_type": "markdown",
   "id": "021478e3-327d-4544-bb3c-6d72f2d162d9",
   "metadata": {},
   "source": [
    "Регуляризация накладывает штраф на большие веса, заставляя модель стремиться к более мелким значениям параметров\n",
    "\n",
    "Ответ w2"
   ]
  },
  {
   "cell_type": "markdown",
   "id": "c249232f-8532-41f5-b016-3acd4ce74d57",
   "metadata": {},
   "source": [
    "**7.Вы получили веса модели w {3, −2, 2}. В модели не использу\u0002ется смещение. Оцените предсказание модели для следующих \n",
    "значений параметров x {1, 3, 1}**"
   ]
  },
  {
   "attachments": {
    "cf33f693-0bbc-476e-80d7-229c174de1d0.png": {
     "image/png": "[encoded data removed]"
    }
   },
   "cell_type": "markdown",
   "id": "bae72b99-397c-4d08-89ef-c219fe0a1164",
   "metadata": {},
   "source": [
    "Подставляем значения по формуле ![image.png](attachment:cf33f693-0bbc-476e-80d7-229c174de1d0.png)\n",
    "\n",
    "3х1+(-2)х3+2х1 => 3 - 6 + 2 = (-1)"
   ]
  },
  {
   "cell_type": "markdown",
   "id": "51cb361b-27e0-43c7-8a87-a9b410f86228",
   "metadata": {},
   "source": [
    "**8.Оцените коэффициент детерминации для следующих данных: реальные значения y {1, 2, 3, 4}, предсказания модели y^ {2, 1, 4, 6}**"
   ]
  },
  {
   "attachments": {
    "63a94337-8322-4c4b-8c77-0bf1fe5ce251.png": {
     "image/png": "[encoded data removed]"
    },
    "6f3a72fd-fbd2-49c6-86ad-92102fa54158.png": {
     "image/png": "[encoded data removed]"
    },
    "b55aa709-4713-44e8-bae4-e43e91fb0f4e.png": {
     "image/png": "[encoded data removed]"
    }
   },
   "cell_type": "markdown",
   "id": "68a97f52-2b03-4e1d-bd2b-86d2d481c2de",
   "metadata": {},
   "source": [
    "Решим по следующей формуле ![image.png](attachment:63a94337-8322-4c4b-8c77-0bf1fe5ce251.png)\n",
    "\n",
    "RSS — сумма квадратов отклонений предсказаний от реальных значений. - ![image.png](attachment:b55aa709-4713-44e8-bae4-e43e91fb0f4e.png)\n",
    "\n",
    "TSS — общая вариативность данных, это сумма квадратов отклонений реальных значений от среднего значения y^ ![image.png](attachment:6f3a72fd-fbd2-49c6-86ad-92102fa54158.png)\n"
   ]
  },
  {
   "cell_type": "markdown",
   "id": "73985d90-8052-4a0b-96df-ff6a69f746c4",
   "metadata": {},
   "source": [
    "RSS = 1 - 2 + 2 - 1 + 3 - 4 + 4 - 6 = 1 + 1 + 1 + 4 = 7\n",
    "\n",
    "Для рассчёта TSS нужно найти y^ = (1 + 2 + 3 + 4)/4 = 10/4 = 2.5\n",
    "\n",
    "TSS = 1 - 2,5 + 2 - 2,5 + 3 - 2,5 + 4 - 2,5 = (-1,5)^2 + (-0,5)^2 + 0,5^2 + 1,5^2 = 2,25 + 0,25 + 0,25 + 2,25 = 5"
   ]
  },
  {
   "cell_type": "markdown",
   "id": "4822b5e5-9fac-4d45-b7f8-02dc32c1cd84",
   "metadata": {},
   "source": [
    "R^2 = 1 - 7/5 = 1 - 1,4 = -0,4"
   ]
  }
 ],
 "metadata": {
  "kernelspec": {
   "display_name": "Python 3 (ipykernel)",
   "language": "python",
   "name": "python3"
  },
  "language_info": {
   "codemirror_mode": {
    "name": "ipython",
    "version": 3
   },
   "file_extension": ".py",
   "mimetype": "text/x-python",
   "name": "python",
   "nbconvert_exporter": "python",
   "pygments_lexer": "ipython3",
   "version": "3.12.6"
  }
 },
 "nbformat": 4,
 "nbformat_minor": 5
}
