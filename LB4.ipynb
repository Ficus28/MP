{
 "cells": [
  {
   "cell_type": "markdown",
   "id": "3b8d3e60-0643-4956-9ba8-3b6dd17b21c2",
   "metadata": {},
   "source": [
    "**1.Допустим, тест на некое заболевание R дал положительный от\u0002вет, хотя на самом деле у испытуемого нет этого заболевания. \n",
    "Какую ошибку допустил тест?**\n",
    "\n",
    "Тест допустил ошибку ложноположительного результата. Это означает, что тест выдал положительный результат (т.е. указал на наличие заболевания R), в то время как на самом деле испытуемый здоров и не болен этим заболеванием."
   ]
  },
  {
   "cell_type": "markdown",
   "id": "8342f331-6bdd-4813-95c3-6f3a1b5e5f5c",
   "metadata": {},
   "source": [
    "**2.Пусть в матрице ошибок TP = 5, TN = 90, FP = 10, FN = 5. Оцените метрики классификации для такой матрицы ошибок**"
   ]
  },
  {
   "attachments": {
    "22410f5f-79ca-41ac-9749-87a29dbd755f.png": {
     "image/png": "[encoded data removed]"
    },
    "89ecc36b-9bd2-4568-be34-922a1be1637b.png": {
     "image/png": "[encoded data removed]"
    },
    "c6fac574-42fe-46f0-a9e9-0dea8fcdc9b4.png": {
     "image/png": "[encoded data removed]"
    },
    "e329b1c3-aa7b-4f29-8846-6b0bfa5a5d5e.png": {
     "image/png": "[encoded data removed]"
    }
   },
   "cell_type": "markdown",
   "id": "8ce22eee-62b7-48c4-80fc-ad196eb47278",
   "metadata": {},
   "source": [
    "Accuracy — доля правильных ответов алгоритма - ![image.png](attachment:e329b1c3-aa7b-4f29-8846-6b0bfa5a5d5e.png)\n",
    "\n",
    "Precision — точность - ![image.png](attachment:89ecc36b-9bd2-4568-be34-922a1be1637b.png)\n",
    "\n",
    "Recall — полнота - ![image.png](attachment:22410f5f-79ca-41ac-9749-87a29dbd755f.png)\n",
    "\n",
    "F1-мера - ![image.png](attachment:c6fac574-42fe-46f0-a9e9-0dea8fcdc9b4.png)"
   ]
  },
  {
   "cell_type": "markdown",
   "id": "7e3e8dce-1976-4503-9fab-764e181fa615",
   "metadata": {},
   "source": [
    "ACC = (5 + 90)/(5 + 90 + 10 + 5) = 95/110 = 0,8\n",
    "\n",
    "Precision = 5/(5 + 10) = 5/15 = 0,33\n",
    "\n",
    "Recall = 5/(5 + 5) = 5/10 = 0,5\n",
    "\n",
    "F1-мера = (2 х 0,33 х 0,5)/(0,33 + 0,5) = 0,33/0,83 = 0,397\n",
    "\n",
    "Низкая F1-мера (0,397) свидетельствует о том, что модель не очень хорошо сбалансирована в отношении точности и полноты."
   ]
  },
  {
   "cell_type": "markdown",
   "id": "4daaf2ae-42ac-4046-a2f6-8e925fb0b105",
   "metadata": {},
   "source": [
    "**3.Допустим, есть два классификатора: первый классификатор имеет долю правильных ответов 95 %, чувствительность 99 %, \n",
    "специфичность 50 %; второй классификатор имеет долю правильных ответов 87 %, чувствительность 84 %, специфичность \n",
    "94 %. Что вы можете сказать о данных, используемых для классификации? Какой из этих классификаторов надежнее (при условии, что важно определение обоих классов)?**"
   ]
  },
  {
   "cell_type": "markdown",
   "id": "29e65e48-7bfd-459b-a8aa-2e8ec8866876",
   "metadata": {},
   "source": [
    "Второй классификатор более надёжен, поскольку он имеет сбалансированные показатели чувствительности и специфичности."
   ]
  },
  {
   "cell_type": "markdown",
   "id": "457e7649-3fe6-4ccc-864d-9ad41b6cb1d8",
   "metadata": {},
   "source": [
    "**4.Перечислите возможные гиперпараметры модели логистической регрессии**"
   ]
  },
  {
   "cell_type": "markdown",
   "id": "19780bec-dacb-422f-ba1f-e4a0ea17fb99",
   "metadata": {},
   "source": [
    "Обратная сила регуляризации, penalty(определяет тип регуляризации),\n",
    "solver(алгоритм оптимизации, используемый для обучения модели)"
   ]
  },
  {
   "cell_type": "markdown",
   "id": "ee9986bc-7561-4f53-a4ab-b9f91924efa6",
   "metadata": {},
   "source": [
    "**5.Для набора данных Cars проанализируйте веса моделей при использовании только числовых признаков. Назовите параметр, \n",
    "который в наибольшей степени связан с целевой переменной.**"
   ]
  },
  {
   "cell_type": "code",
   "execution_count": 5,
   "id": "6bb9e897-95bf-4fdb-b749-4f52b803d2b6",
   "metadata": {
    "scrolled": true
   },
   "outputs": [
    {
     "name": "stdout",
     "output_type": "stream",
     "text": [
      "Index(['Make', 'Model', 'Year', 'Style', 'Distance', 'Engine_capacity(cm3)',\n",
      "       'Fuel_type', 'Transmission', 'Price(euro)'],\n",
      "      dtype='object')\n",
      "Параметр, который наиболее сильно связан с целевой переменной: Year\n"
     ]
    }
   ],
   "source": [
    "import pandas as pd\n",
    "from sklearn.linear_model import LinearRegression\n",
    "\n",
    "# 1. Загрузка данных\n",
    "df = pd.read_csv('cars.csv')\n",
    "\n",
    "# 2. Посмотрите на названия всех колонок\n",
    "print(df.columns)\n",
    "\n",
    "# 3. Записываем имя целевой переменной\n",
    "numeric_features = df.select_dtypes(include=['float64', 'int64']).drop(columns=['Price(euro)'])  \n",
    "target = df['Price(euro)']\n",
    "\n",
    "# 4. Разделение данных на признаки и целевую переменную\n",
    "X = numeric_features\n",
    "y = target\n",
    "\n",
    "# 5. Обучение модели\n",
    "model = LinearRegression()\n",
    "model.fit(X, y)\n",
    "\n",
    "# 6. Получение весов модели\n",
    "weights = pd.Series(model.coef_, index=X.columns)\n",
    "\n",
    "# 7. Параметр, который наиболее сильно связан с целевой переменной\n",
    "strongest_feature = weights.abs().idxmax()\n",
    "\n",
    "print(f\"Параметр, который наиболее сильно связан с целевой переменной: {strongest_feature}\")"
   ]
  },
  {
   "cell_type": "markdown",
   "id": "74a1fb89-b916-46ce-9721-216bf0004b55",
   "metadata": {},
   "source": [
    "**6.Оцените значение функции сигмоиды σ(z) для z = 0.25**"
   ]
  },
  {
   "cell_type": "markdown",
   "id": "5296ce8e-46cc-4433-abd1-2fda71b46b68",
   "metadata": {},
   "source": [
    "Функции сигмоиды – это вероятность того, что аргумент функции σ(zi) принадлежит одному из классов. Такой аргумент принято \n",
    "называть логит. Отметим, что для расчета функции потерь не следует пользоваться округлением до классов\n",
    "\n",
    "σ(z) = 1 / (1 + exp(-z)) - формула\n",
    "\n",
    "σ(z) = 1/(1 + exp(-z)) => σ(0,25) = 1/(1+ exp(-0,25)) =  0.562"
   ]
  },
  {
   "cell_type": "markdown",
   "id": "5652de56-24d5-45b3-b84d-ceee88bcccbd",
   "metadata": {},
   "source": [
    "**7.Оцените значение производной функции сигмоиды σ'(z) для z = –3.**"
   ]
  },
  {
   "cell_type": "markdown",
   "id": "cda97295-2ae3-4b2b-8863-e1338c9e3298",
   "metadata": {},
   "source": [
    "σ'(z) = σ(z) * (1 - σ(z)) - Формула производной сигмоиды\n",
    "\n",
    "σ(-3) = 1 / (1 + exp(-(-3))) ≈ 0.047 - находим значение сигмоиды при z = -3\n",
    "\n",
    "σ'(-3) = 0.047 * (1 - 0.047) ≈ 0.045 - подставляем полученное значение в формулу производной\n",
    "\n",
    "Производная сигмоиды при z = -3 примерно равна 0.045"
   ]
  },
  {
   "cell_type": "markdown",
   "id": "91de993a-31d4-42b3-abe6-a7335d944b0a",
   "metadata": {},
   "source": [
    "**8.Назовите, к какому классу следует отнести результат логистической модели для z = 0.1, если порог равен 0.6**"
   ]
  },
  {
   "cell_type": "markdown",
   "id": "763c1428-e91c-421d-8d98-c1ca4f35dd50",
   "metadata": {},
   "source": [
    "Поскольку 0.1 (вероятность) меньше 0.6 (порог), то мы относим объект к отрицательному классу."
   ]
  },
  {
   "cell_type": "markdown",
   "id": "5cc1f8b8-5a81-4c68-8eea-797b26e974e5",
   "metadata": {},
   "source": [
    "σ(0.1) = 1 / (1 + exp(-0.1)) = 1 / (1 + 1/ (1.104)) = 1/(1 + 0,906) = 0,525\n"
   ]
  },
  {
   "cell_type": "markdown",
   "id": "d0f90df7-041d-40ba-ba9b-1333985d2ad6",
   "metadata": {},
   "source": [
    "**9.Оцените значение функции потерь (бинарной кросс-энтропии) для предсказания модели y^ = 0.1 и целевой переменной y = 1.**"
   ]
  },
  {
   "cell_type": "markdown",
   "id": "46308cb8-e54d-4e67-a13a-2489478cf7d1",
   "metadata": {},
   "source": [
    "L = -[y * log(y^) + (1-y) * log(1-y^)] - Формула бинарной кросс-энтропии"
   ]
  },
  {
   "cell_type": "code",
   "execution_count": 8,
   "id": "ecfd9594-5143-4c06-ac3e-c754b3920195",
   "metadata": {},
   "outputs": [
    {
     "name": "stdout",
     "output_type": "stream",
     "text": [
      "Значение бинарной кросс-энтропии: 2.3025850929940455\n"
     ]
    }
   ],
   "source": [
    "import numpy as np\n",
    "\n",
    "# Функция бинарной кросс-энтропии\n",
    "def binary_cross_entropy(y_true, y_pred):\n",
    "    return -(y_true * np.log(y_pred) + (1 - y_true) * np.log(1 - y_pred))\n",
    "\n",
    "# Дано\n",
    "y_true = 1  # Целевая переменная\n",
    "y_pred = 0.1  # Предсказание модели\n",
    "\n",
    "# Вычисление бинарной кросс-энтропии\n",
    "loss = binary_cross_entropy(y_true, y_pred)\n",
    "print(f\"Значение бинарной кросс-энтропии: {loss}\")\n"
   ]
  }
 ],
 "metadata": {
  "kernelspec": {
   "display_name": "Python 3 (ipykernel)",
   "language": "python",
   "name": "python3"
  },
  "language_info": {
   "codemirror_mode": {
    "name": "ipython",
    "version": 3
   },
   "file_extension": ".py",
   "mimetype": "text/x-python",
   "name": "python",
   "nbconvert_exporter": "python",
   "pygments_lexer": "ipython3",
   "version": "3.12.6"
  }
 },
 "nbformat": 4,
 "nbformat_minor": 5
}
